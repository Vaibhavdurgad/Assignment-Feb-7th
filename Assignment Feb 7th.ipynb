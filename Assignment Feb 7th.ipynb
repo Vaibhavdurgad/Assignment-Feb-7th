{
 "cells": [
  {
   "cell_type": "markdown",
   "id": "a5efaa72-12cf-433b-a71d-9e1ac147d852",
   "metadata": {},
   "source": [
    "Q1. You are writing code for a company. The requirement of the company is that you create a python\n",
    "function that will check whether the password entered by the user is correct or not. The function should\n",
    "take the password as input and return the string “Valid Password” if the entered password follows the\n",
    "below-given password guidelines else it should return “Invalid Password”.\n",
    "Note: 1. The Password should contain at least two uppercase letters and at least two lowercase letters.\n",
    "2. The Password should contain at least a number and three special characters.\n",
    "3. The length of the password should be 10 characters long."
   ]
  },
  {
   "cell_type": "code",
   "execution_count": 7,
   "id": "90553116-0695-40e0-88e0-0c07215dbfa5",
   "metadata": {},
   "outputs": [],
   "source": [
    "import re\n",
    "\n",
    "def check_password(password):\n",
    "    # Check if the password is 10 characters long\n",
    "    if len(password) != 10:\n",
    "        return \"Invalid Password\"\n",
    "    \n",
    "    # Check if the password contains at least 2 uppercase and 2 lowercase letters\n",
    "    if sum(1 for c in password if c.isupper()) < 2 or sum(1 for c in password if c.islower()) < 2:\n",
    "        return \"Invalid Password\"\n",
    "    \n",
    "    # Check if the password contains at least a number and 3 special characters\n",
    "    if not any(c.isdigit() for c in password) or len(re.findall('[^A-Za-z0-9]', password)) < 3:\n",
    "        return \"Invalid Password\"\n",
    "    \n",
    "    # If all checks pass, the password is valid\n",
    "    return \"Valid Password\""
   ]
  },
  {
   "cell_type": "code",
   "execution_count": 14,
   "id": "117a122c-6ba1-4d27-949f-3723f5611a6d",
   "metadata": {},
   "outputs": [
    {
     "name": "stdout",
     "output_type": "stream",
     "text": [
      "Valid Password\n",
      "Invalid Password\n"
     ]
    }
   ],
   "source": [
    "password1 = \"ABab123@#$\"\n",
    "password2 = \"abc123def#\"\n",
    "\n",
    "print(check_password(password1)) # Output: \"Valid Password\"\n",
    "print(check_password(password2)) # Output: \"Invalid Password\"\n"
   ]
  },
  {
   "cell_type": "code",
   "execution_count": null,
   "id": "bcd2023b-459e-462f-bdf6-15e08602ea0f",
   "metadata": {},
   "outputs": [],
   "source": [
    "Q2. Solve the below-given questions using at least one of the following:\n",
    "1. Lambda function\n",
    "2. Filter function\n",
    "3. Map function\n",
    "4. List Comprehension\n",
    "1 Check if the string starts with a particular letter.\n",
    "2 Check if the string is numeric.\n",
    "3 Sort a list of tuples having fruit names and their quantity. [(\"mango\",99),(\"orange\",80), (\"grapes\", 1000)-\n",
    "4 Find the squares of numbers from 1 to 10.\n",
    "5 Find the cube root of numbers from 1 to 10.\n",
    "6 Check if a given number is even.\n",
    "7 Filter odd numbers from the given list.\n",
    "[1,2,3,4,5,6,7,8,9,10-\n",
    "8 Sort a list of integers into positive and negative integers lists.\n",
    "[1,2,3,4,5,6,-1,-2,-3,-4,-5,0]"
   ]
  },
  {
   "cell_type": "code",
   "execution_count": 15,
   "id": "73884924-4a33-4422-9bd4-92c07ac2fef7",
   "metadata": {},
   "outputs": [
    {
     "name": "stdout",
     "output_type": "stream",
     "text": [
      "True\n",
      "False\n"
     ]
    }
   ],
   "source": [
    "starts_with = lambda string, letter: string.startswith(letter)\n",
    "\n",
    "print(starts_with(\"apple\", \"a\")) # Output: True\n",
    "print(starts_with(\"banana\", \"m\")) # Output: False\n"
   ]
  },
  {
   "cell_type": "code",
   "execution_count": 16,
   "id": "c00f6992-9e73-4218-9a00-6cec2c3454ac",
   "metadata": {},
   "outputs": [
    {
     "name": "stdout",
     "output_type": "stream",
     "text": [
      "True\n",
      "False\n"
     ]
    }
   ],
   "source": [
    "is_numeric = lambda string: string.isnumeric()\n",
    "\n",
    "print(is_numeric(\"123\")) # Output: True\n",
    "print(is_numeric(\"1.23\")) # Output: False\n"
   ]
  },
  {
   "cell_type": "code",
   "execution_count": 17,
   "id": "70c7d939-34ac-46a1-a3b7-8f603bac22ea",
   "metadata": {},
   "outputs": [
    {
     "name": "stdout",
     "output_type": "stream",
     "text": [
      "[('orange', 80), ('mango', 99), ('grapes', 1000)]\n"
     ]
    }
   ],
   "source": [
    "fruits = [(\"mango\", 99), (\"orange\", 80), (\"grapes\", 1000)]\n",
    "sorted_fruits = sorted(fruits, key=lambda x: x[1])\n",
    "\n",
    "print(sorted_fruits) # Output: [('orange', 80), ('mango', 99), ('grapes', 1000)]\n"
   ]
  },
  {
   "cell_type": "code",
   "execution_count": 18,
   "id": "3e4699c0-0973-4a5d-91d0-9d26f9c5fbc8",
   "metadata": {},
   "outputs": [
    {
     "name": "stdout",
     "output_type": "stream",
     "text": [
      "[1, 4, 9, 16, 25, 36, 49, 64, 81, 100]\n"
     ]
    }
   ],
   "source": [
    "squares = [x**2 for x in range(1, 11)]\n",
    "\n",
    "print(squares) # Output: [1, 4, 9, 16, 25, 36, 49, 64, 81, 100]\n"
   ]
  },
  {
   "cell_type": "code",
   "execution_count": 19,
   "id": "fcbaeabf-fd07-479e-a38d-e06193b66fe6",
   "metadata": {},
   "outputs": [
    {
     "name": "stdout",
     "output_type": "stream",
     "text": [
      "[1.0, 1.2599210498948732, 1.4422495703074083, 1.5874010519681994, 1.7099759466766968, 1.8171205928321397, 1.912931182772389, 2.0, 2.080083823051904, 2.154434690031884]\n"
     ]
    }
   ],
   "source": [
    "import math\n",
    "\n",
    "cube_roots = [math.pow(x, 1/3) for x in range(1, 11)]\n",
    "\n",
    "print(cube_roots) # Output: [1.0, 1.2599210498948732, 1.4422495703074083, 1.5874010519681994, 1.7099759466766968, 1.8171205928321397, 1.912931182772389, 2.0, 2.080083823051904, 2.154434690031884]\n"
   ]
  },
  {
   "cell_type": "code",
   "execution_count": 20,
   "id": "332e44a8-60d1-408d-bedc-a3109cfe3147",
   "metadata": {},
   "outputs": [
    {
     "name": "stdout",
     "output_type": "stream",
     "text": [
      "True\n",
      "False\n"
     ]
    }
   ],
   "source": [
    "is_even = lambda num: num % 2 == 0\n",
    "\n",
    "print(is_even(4)) # Output: True\n",
    "print(is_even(5)) # Output: False\n"
   ]
  },
  {
   "cell_type": "code",
   "execution_count": 22,
   "id": "4365cb7c-65af-4916-b067-ecddee78dd11",
   "metadata": {},
   "outputs": [],
   "source": [
    "nums = [1, 2, 3, 4, 5, 6, 7, 8, 9, 10]\n",
    "odd_nums = list(filter(lambda x: x % 2 != 0, nums))"
   ]
  },
  {
   "cell_type": "code",
   "execution_count": 23,
   "id": "3e903b28-440d-44fc-a970-a50da5595aa9",
   "metadata": {},
   "outputs": [
    {
     "data": {
      "text/plain": [
       "[1, 3, 5, 7, 9]"
      ]
     },
     "execution_count": 23,
     "metadata": {},
     "output_type": "execute_result"
    }
   ],
   "source": [
    "odd_nums"
   ]
  },
  {
   "cell_type": "code",
   "execution_count": 24,
   "id": "0b3ebc5d-02bd-41be-826c-a2818b0321ae",
   "metadata": {},
   "outputs": [
    {
     "name": "stdout",
     "output_type": "stream",
     "text": [
      "Positive integers: [1, 2, 3, 4, 5, 6]\n",
      "Negative integers: [-1, -2, -3, -4, -5]\n"
     ]
    }
   ],
   "source": [
    "numbers = [1, 2, 3, 4, 5, 6, -1, -2, -3, -4, -5, 0]\n",
    "\n",
    "positive_nums = list(filter(lambda x: x > 0, numbers))\n",
    "negative_nums = list(filter(lambda x: x < 0, numbers))\n",
    "\n",
    "print(\"Positive integers:\", positive_nums)\n",
    "print(\"Negative integers:\", negative_nums)\n"
   ]
  },
  {
   "cell_type": "code",
   "execution_count": null,
   "id": "366c28ff-0bd6-4ee9-a18b-402f89aaded7",
   "metadata": {},
   "outputs": [],
   "source": []
  }
 ],
 "metadata": {
  "kernelspec": {
   "display_name": "Python 3 (ipykernel)",
   "language": "python",
   "name": "python3"
  },
  "language_info": {
   "codemirror_mode": {
    "name": "ipython",
    "version": 3
   },
   "file_extension": ".py",
   "mimetype": "text/x-python",
   "name": "python",
   "nbconvert_exporter": "python",
   "pygments_lexer": "ipython3",
   "version": "3.10.8"
  }
 },
 "nbformat": 4,
 "nbformat_minor": 5
}
